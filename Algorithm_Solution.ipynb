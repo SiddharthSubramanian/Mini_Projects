{
 "cells": [
  {
   "cell_type": "markdown",
   "metadata": {},
   "source": [
    "## Number of ways to climb stairs:\n"
   ]
  },
  {
   "cell_type": "code",
   "execution_count": 13,
   "metadata": {},
   "outputs": [],
   "source": [
    "def fib(n): \n",
    "    if n <= 1: \n",
    "        return n \n",
    "    return fib(n-1) + fib(n-2) \n",
    "  \n",
    "# returns no. of ways to reach n'th stair \n",
    "def countWays_init(n): \n",
    "    return fib(n + 1) "
   ]
  },
  {
   "cell_type": "code",
   "execution_count": 15,
   "metadata": {},
   "outputs": [
    {
     "name": "stdout",
     "output_type": "stream",
     "text": [
      "Number of ways =  5\n"
     ]
    }
   ],
   "source": [
    "\n",
    "# Future steps to be taken\n",
    "  \n",
    "s = 4 # Person is already in step 1 & 4 more steps is required to reach the top\n",
    "print(\"Number of ways = \",countWays_init(s))\n",
    "  "
   ]
  },
  {
   "cell_type": "markdown",
   "metadata": {},
   "source": [
    "#### Optional task "
   ]
  },
  {
   "cell_type": "code",
   "execution_count": 19,
   "metadata": {},
   "outputs": [
    {
     "name": "stdout",
     "output_type": "stream",
     "text": [
      "Number of ways = 1\n"
     ]
    }
   ],
   "source": [
    "def Climbany(n,step): \n",
    "    if n <= 1: \n",
    "        return n \n",
    "    res = 0\n",
    "    i = 1\n",
    "    while i<=step and i<=n: \n",
    "        res = res + Climbany(n-i, step) \n",
    "        i = i + 1\n",
    "    return res \n",
    "      \n",
    "# Returns number of ways to reach s'th stair     \n",
    "def countWays(s,step): \n",
    "    return Climbany(s+1, step) \n",
    "      \n",
    "s,step = 4,1 #{1,2,4}\n",
    "print(\"Number of ways =\",countWays(s, step))"
   ]
  }
 ],
 "metadata": {
  "kernelspec": {
   "display_name": "Python 3",
   "language": "python",
   "name": "python3"
  },
  "language_info": {
   "codemirror_mode": {
    "name": "ipython",
    "version": 3
   },
   "file_extension": ".py",
   "mimetype": "text/x-python",
   "name": "python",
   "nbconvert_exporter": "python",
   "pygments_lexer": "ipython3",
   "version": "3.6.2"
  }
 },
 "nbformat": 4,
 "nbformat_minor": 2
}
